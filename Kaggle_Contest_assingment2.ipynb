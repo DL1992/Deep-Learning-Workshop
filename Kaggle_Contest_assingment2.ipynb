{
  "nbformat": 4,
  "nbformat_minor": 0,
  "metadata": {
    "colab": {
      "name": "Kaggle - Contest.ipynb",
      "version": "0.3.2",
      "provenance": [],
      "collapsed_sections": []
    },
    "kernelspec": {
      "name": "python3",
      "display_name": "Python 3"
    },
    "accelerator": "GPU"
  },
  "cells": [
    {
      "metadata": {
        "id": "FS6HxLd1T01a",
        "colab_type": "text"
      },
      "cell_type": "markdown",
      "source": [
        "mounting colab and imports for the notebook.\n",
        "mounting colab is not necessary for kaggle."
      ]
    },
    {
      "metadata": {
        "id": "i50P-YC4v-fH",
        "colab_type": "code",
        "outputId": "2541b8a5-0bb7-4c1e-a9af-16d71457ec2a",
        "colab": {
          "base_uri": "https://localhost:8080/",
          "height": 33
        }
      },
      "cell_type": "code",
      "source": [
        "from google.colab import drive\n",
        "drive.mount('/content/drive/')"
      ],
      "execution_count": 1,
      "outputs": [
        {
          "output_type": "stream",
          "text": [
            "Drive already mounted at /content/drive/; to attempt to forcibly remount, call drive.mount(\"/content/drive/\", force_remount=True).\n"
          ],
          "name": "stdout"
        }
      ]
    },
    {
      "metadata": {
        "id": "ViFM7vuqweBc",
        "colab_type": "code",
        "colab": {}
      },
      "cell_type": "code",
      "source": [
        "import os\n",
        "import pandas as pd\n",
        "import numpy as np\n",
        "from datetime import datetime\n",
        "import gc\n"
      ],
      "execution_count": 0,
      "outputs": []
    },
    {
      "metadata": {
        "id": "NkkWO-IrwL1U",
        "colab_type": "code",
        "colab": {}
      },
      "cell_type": "code",
      "source": [
        "path = 'drive/My Drive/DLWS/Assignment2/elo/'"
      ],
      "execution_count": 0,
      "outputs": []
    },
    {
      "metadata": {
        "id": "D0Ub5UFSaALU",
        "colab_type": "text"
      },
      "cell_type": "markdown",
      "source": [
        "**contest kernel**\n",
        "\n",
        "we didnt present any EDA, all the information we have about how the data look and behave we learnd from severl EDA kernels that are public on the contest page."
      ]
    },
    {
      "metadata": {
        "id": "kOJTjmCAUqw6",
        "colab_type": "text"
      },
      "cell_type": "markdown",
      "source": [
        "This function is used to reduce memory use to load the history data which crashes kaggle and colab. it is also taken from a public kaggler notebook."
      ]
    },
    {
      "metadata": {
        "id": "Nwe5bKvwgbMX",
        "colab_type": "code",
        "colab": {}
      },
      "cell_type": "code",
      "source": [
        "def reduce_mem_usage(df, verbose=True):\n",
        "    numerics = ['int16', 'int32', 'int64', 'float16', 'float32', 'float64']\n",
        "    start_mem = df.memory_usage().sum() / 1024**2    \n",
        "    for col in df.columns:\n",
        "        col_type = df[col].dtypes\n",
        "        if col_type in numerics:\n",
        "            c_min = df[col].min()\n",
        "            c_max = df[col].max()\n",
        "            if str(col_type)[:3] == 'int':\n",
        "                if c_min > np.iinfo(np.int8).min and c_max < np.iinfo(np.int8).max:\n",
        "                    df[col] = df[col].astype(np.int8)\n",
        "                elif c_min > np.iinfo(np.int16).min and c_max < np.iinfo(np.int16).max:\n",
        "                    df[col] = df[col].astype(np.int16)\n",
        "                elif c_min > np.iinfo(np.int32).min and c_max < np.iinfo(np.int32).max:\n",
        "                    df[col] = df[col].astype(np.int32)\n",
        "                elif c_min > np.iinfo(np.int64).min and c_max < np.iinfo(np.int64).max:\n",
        "                    df[col] = df[col].astype(np.int64)  \n",
        "            else:\n",
        "                if c_min > np.finfo(np.float16).min and c_max < np.finfo(np.float16).max:\n",
        "                    df[col] = df[col].astype(np.float16)\n",
        "                elif c_min > np.finfo(np.float32).min and c_max < np.finfo(np.float32).max:\n",
        "                    df[col] = df[col].astype(np.float32)\n",
        "                else:\n",
        "                    df[col] = df[col].astype(np.float64)    \n",
        "    end_mem = df.memory_usage().sum() / 1024**2\n",
        "    if verbose: print('Mem. usage decreased to {:5.2f} Mb ({:.1f}% reduction)'.format(end_mem, 100 * (start_mem - end_mem) / start_mem))\n",
        "    return df"
      ],
      "execution_count": 0,
      "outputs": []
    },
    {
      "metadata": {
        "id": "9uasRn59VTdq",
        "colab_type": "text"
      },
      "cell_type": "markdown",
      "source": [
        "# Train and Test preprocess"
      ]
    },
    {
      "metadata": {
        "id": "TFutOCmO-AV1",
        "colab_type": "code",
        "outputId": "e59f3c6f-c49d-48e7-f33e-425747060a2f",
        "colab": {
          "base_uri": "https://localhost:8080/",
          "height": 184
        }
      },
      "cell_type": "code",
      "source": [
        "train = pd.read_csv(path + 'train.csv', parse_dates=['first_active_month'])\n",
        "test = pd.read_csv(path + 'test.csv', parse_dates=['first_active_month'])\n"
      ],
      "execution_count": 81,
      "outputs": [
        {
          "output_type": "stream",
          "text": [
            "<class 'pandas.core.frame.DataFrame'>\n",
            "RangeIndex: 123623 entries, 0 to 123622\n",
            "Data columns (total 5 columns):\n",
            "first_active_month    123622 non-null datetime64[ns]\n",
            "card_id               123623 non-null object\n",
            "feature_1             123623 non-null int64\n",
            "feature_2             123623 non-null int64\n",
            "feature_3             123623 non-null int64\n",
            "dtypes: datetime64[ns](1), int64(3), object(1)\n",
            "memory usage: 4.7+ MB\n"
          ],
          "name": "stdout"
        }
      ]
    },
    {
      "metadata": {
        "id": "On-lM5dU-AYA",
        "colab_type": "code",
        "colab": {}
      },
      "cell_type": "code",
      "source": [
        "for feature in ['feature_1','feature_2','feature_3']:\n",
        "  train[feature] = train[feature].astype('category')\n",
        "  test[feature] = test[feature].astype('category')"
      ],
      "execution_count": 0,
      "outputs": []
    },
    {
      "metadata": {
        "id": "oPR-OeOh-AaH",
        "colab_type": "code",
        "outputId": "6abba275-7a74-46b8-a240-4f5d7a0fb2d1",
        "colab": {
          "base_uri": "https://localhost:8080/",
          "height": 117
        }
      },
      "cell_type": "code",
      "source": [
        "test['first_active_month'].fillna(test['first_active_month'].value_counts().idxmax(), inplace = True) \n"
      ],
      "execution_count": 83,
      "outputs": [
        {
          "output_type": "execute_result",
          "data": {
            "text/plain": [
              "first_active_month    0\n",
              "card_id               0\n",
              "feature_1             0\n",
              "feature_2             0\n",
              "feature_3             0\n",
              "dtype: int64"
            ]
          },
          "metadata": {
            "tags": []
          },
          "execution_count": 83
        }
      ]
    },
    {
      "metadata": {
        "id": "PLxjA2FN-Acc",
        "colab_type": "code",
        "outputId": "243e5c38-f4ac-4449-fff1-4d633120d301",
        "colab": {
          "base_uri": "https://localhost:8080/",
          "height": 216
        }
      },
      "cell_type": "code",
      "source": [
        "max_date = train['first_active_month'].dt.date.max()\n",
        "\n",
        "def date_parse(df):\n",
        "  date_parts = ['year', 'month' , 'weekday']\n",
        "  for part in date_parts:\n",
        "    date_part_col = 'first_active_month_' + part\n",
        "    df[date_part_col] = getattr(df['first_active_month'].dt, part).astype(int)\n",
        "  df['elasped_time'] = (max_date - df['first_active_month'].dt.date).dt.days\n",
        "  return df\n",
        "\n",
        "train = date_parse(train)\n",
        "test = date_parse(test)\n",
        "\n",
        "train.head()"
      ],
      "execution_count": 84,
      "outputs": [
        {
          "output_type": "execute_result",
          "data": {
            "text/html": [
              "<div>\n",
              "<style scoped>\n",
              "    .dataframe tbody tr th:only-of-type {\n",
              "        vertical-align: middle;\n",
              "    }\n",
              "\n",
              "    .dataframe tbody tr th {\n",
              "        vertical-align: top;\n",
              "    }\n",
              "\n",
              "    .dataframe thead th {\n",
              "        text-align: right;\n",
              "    }\n",
              "</style>\n",
              "<table border=\"1\" class=\"dataframe\">\n",
              "  <thead>\n",
              "    <tr style=\"text-align: right;\">\n",
              "      <th></th>\n",
              "      <th>first_active_month</th>\n",
              "      <th>card_id</th>\n",
              "      <th>feature_1</th>\n",
              "      <th>feature_2</th>\n",
              "      <th>feature_3</th>\n",
              "      <th>target</th>\n",
              "      <th>first_active_month_year</th>\n",
              "      <th>first_active_month_month</th>\n",
              "      <th>first_active_month_weekday</th>\n",
              "      <th>elasped_time</th>\n",
              "    </tr>\n",
              "  </thead>\n",
              "  <tbody>\n",
              "    <tr>\n",
              "      <th>0</th>\n",
              "      <td>2017-06-01</td>\n",
              "      <td>C_ID_92a2005557</td>\n",
              "      <td>5</td>\n",
              "      <td>2</td>\n",
              "      <td>1</td>\n",
              "      <td>-0.820283</td>\n",
              "      <td>2017</td>\n",
              "      <td>6</td>\n",
              "      <td>3</td>\n",
              "      <td>245</td>\n",
              "    </tr>\n",
              "    <tr>\n",
              "      <th>1</th>\n",
              "      <td>2017-01-01</td>\n",
              "      <td>C_ID_3d0044924f</td>\n",
              "      <td>4</td>\n",
              "      <td>1</td>\n",
              "      <td>0</td>\n",
              "      <td>0.392913</td>\n",
              "      <td>2017</td>\n",
              "      <td>1</td>\n",
              "      <td>6</td>\n",
              "      <td>396</td>\n",
              "    </tr>\n",
              "    <tr>\n",
              "      <th>2</th>\n",
              "      <td>2016-08-01</td>\n",
              "      <td>C_ID_d639edf6cd</td>\n",
              "      <td>2</td>\n",
              "      <td>2</td>\n",
              "      <td>0</td>\n",
              "      <td>0.688056</td>\n",
              "      <td>2016</td>\n",
              "      <td>8</td>\n",
              "      <td>0</td>\n",
              "      <td>549</td>\n",
              "    </tr>\n",
              "    <tr>\n",
              "      <th>3</th>\n",
              "      <td>2017-09-01</td>\n",
              "      <td>C_ID_186d6a6901</td>\n",
              "      <td>4</td>\n",
              "      <td>3</td>\n",
              "      <td>0</td>\n",
              "      <td>0.142495</td>\n",
              "      <td>2017</td>\n",
              "      <td>9</td>\n",
              "      <td>4</td>\n",
              "      <td>153</td>\n",
              "    </tr>\n",
              "    <tr>\n",
              "      <th>4</th>\n",
              "      <td>2017-11-01</td>\n",
              "      <td>C_ID_cdbd2c0db2</td>\n",
              "      <td>1</td>\n",
              "      <td>3</td>\n",
              "      <td>0</td>\n",
              "      <td>-0.159749</td>\n",
              "      <td>2017</td>\n",
              "      <td>11</td>\n",
              "      <td>2</td>\n",
              "      <td>92</td>\n",
              "    </tr>\n",
              "  </tbody>\n",
              "</table>\n",
              "</div>"
            ],
            "text/plain": [
              "  first_active_month          card_id feature_1 feature_2 feature_3    target  \\\n",
              "0         2017-06-01  C_ID_92a2005557         5         2         1 -0.820283   \n",
              "1         2017-01-01  C_ID_3d0044924f         4         1         0  0.392913   \n",
              "2         2016-08-01  C_ID_d639edf6cd         2         2         0  0.688056   \n",
              "3         2017-09-01  C_ID_186d6a6901         4         3         0  0.142495   \n",
              "4         2017-11-01  C_ID_cdbd2c0db2         1         3         0 -0.159749   \n",
              "\n",
              "   first_active_month_year  first_active_month_month  \\\n",
              "0                     2017                         6   \n",
              "1                     2017                         1   \n",
              "2                     2016                         8   \n",
              "3                     2017                         9   \n",
              "4                     2017                        11   \n",
              "\n",
              "   first_active_month_weekday  elasped_time  \n",
              "0                           3           245  \n",
              "1                           6           396  \n",
              "2                           0           549  \n",
              "3                           4           153  \n",
              "4                           2            92  "
            ]
          },
          "metadata": {
            "tags": []
          },
          "execution_count": 84
        }
      ]
    },
    {
      "metadata": {
        "id": "GkF8e72HVdYn",
        "colab_type": "text"
      },
      "cell_type": "markdown",
      "source": [
        "# History and new merchents transactions preprocess"
      ]
    },
    {
      "metadata": {
        "id": "IEcVo7Zu-Aec",
        "colab_type": "code",
        "colab": {}
      },
      "cell_type": "code",
      "source": [
        "his_trans = pd.read_csv(path + 'historical_transactions.csv', parse_dates=['purchase_date'])\n",
        "n_merch_trans = pd.read_csv(path + 'new_merchant_transactions.csv', parse_dates=['purchase_date'])"
      ],
      "execution_count": 0,
      "outputs": []
    },
    {
      "metadata": {
        "id": "sEjL11hn-Ags",
        "colab_type": "code",
        "colab": {}
      },
      "cell_type": "code",
      "source": [
        "def history_preprocess(df):\n",
        "  df['authorized_flag'] = df['authorized_flag'].apply(lambda x: 1 if x=='Y' else 0) \n",
        "  df['category_1'] = df['category_1'].apply(lambda x: 0 if x=='Y' else 1)\n",
        "  df['category_2'] = df['category_2'].fillna(0)\n",
        "  df['category_3'] = df['category_3'].map({'A': 0, 'B': 1, 'C': 2})\n",
        "  df['category_3'] = df['category_3'].fillna(3)\n",
        "  df['category_3'] = df['category_3'].astype('int')\n",
        "\n",
        "  df['installments'] = df['installments'].astype('category')\n",
        "  return df\n",
        "\n",
        "his_trans = history_preprocess(his_trans)\n",
        "n_merch_trans = history_preprocess(n_merch_trans)"
      ],
      "execution_count": 0,
      "outputs": []
    },
    {
      "metadata": {
        "id": "epHR8iwwWOQv",
        "colab_type": "text"
      },
      "cell_type": "markdown",
      "source": [
        "# History and transactions feature engineering"
      ]
    },
    {
      "metadata": {
        "id": "xVaBIXB6xFXU",
        "colab_type": "code",
        "colab": {}
      },
      "cell_type": "code",
      "source": [
        "def aggregate_historical_transactions(trans, prefix):\n",
        "    trans['purchase_month'] = trans['purchase_date'].dt.month\n",
        "    trans['year'] = trans['purchase_date'].dt.year\n",
        "    trans['dayofweek'] = trans['purchase_date'].dt.dayofweek\n",
        "    trans['installments'] = trans['installments'].astype(int)\n",
        "    trans['month_diff'] = ((datetime.today() - trans['purchase_date']).dt.days)//30\n",
        "    trans['month_diff'] += trans['month_lag']\n",
        "    trans['installments'] = trans['installments'].astype(int)\n",
        "    trans = pd.get_dummies(trans, columns=['category_2', 'category_3'])\n",
        "    agg_func = {\n",
        "        'category_1': ['sum', 'mean'],\n",
        "        'category_2_1.0': ['mean', 'sum'],\n",
        "        'category_2_2.0': ['mean', 'sum'],\n",
        "        'category_2_3.0': ['mean', 'sum'],\n",
        "        'category_2_4.0': ['mean', 'sum'],\n",
        "        'category_2_5.0': ['mean', 'sum'],\n",
        "        'category_3_1': ['sum', 'mean'],\n",
        "        'category_3_2': ['sum', 'mean'],\n",
        "        'category_3_3': ['sum', 'mean'],\n",
        "        'merchant_id': ['nunique'],\n",
        "        'purchase_amount': ['sum', 'mean'],\n",
        "        'installments': ['sum', 'mean'],\n",
        "        'purchase_month': ['mean', 'max', 'min',],\n",
        "        'purchase_date': ['max', 'min'],\n",
        "        'month_lag': ['min', 'max'],\n",
        "        'merchant_category_id': ['nunique'],\n",
        "        'state_id': ['nunique'],\n",
        "        'subsector_id': ['nunique'],\n",
        "        'city_id': ['nunique'],\n",
        "    }\n",
        "    agg_trans = trans.groupby(['card_id']).agg(agg_func)\n",
        "    agg_trans.columns = [prefix + '_'.join(col).strip() for col in agg_trans.columns.values]\n",
        "    agg_trans.reset_index(inplace=True)\n",
        "\n",
        "    df = (trans.groupby('card_id')\n",
        "          .size()\n",
        "          .reset_index(name='{}transactions_count'.format(prefix)))\n",
        "    agg_trans = pd.merge(df, agg_trans, on='card_id', how='left')\n",
        "    return agg_trans"
      ],
      "execution_count": 0,
      "outputs": []
    },
    {
      "metadata": {
        "id": "N_15gTBkxFZg",
        "colab_type": "code",
        "outputId": "84203854-0362-453d-ba8f-9738428a429c",
        "colab": {
          "base_uri": "https://localhost:8080/",
          "height": 84
        }
      },
      "cell_type": "code",
      "source": [
        "n_merch_trans = aggregate_historical_transactions(n_merch_trans,'new')"
      ],
      "execution_count": 88,
      "outputs": [
        {
          "output_type": "stream",
          "text": [
            "h1\n",
            "h2\n",
            "h3\n",
            "h4\n"
          ],
          "name": "stdout"
        }
      ]
    },
    {
      "metadata": {
        "id": "wtUibg0E8uP7",
        "colab_type": "code",
        "colab": {}
      },
      "cell_type": "code",
      "source": [
        "def aggregate_per_month(history):\n",
        "    grouped = history.groupby(['card_id', 'month_lag'])\n",
        "    history['installments'] = history['installments'].astype(int)\n",
        "    agg_func = {\n",
        "            'purchase_amount': ['count', 'sum', 'mean', 'min', 'max', 'std'],\n",
        "            'installments': ['count', 'sum', 'mean', 'min', 'max', 'std'],\n",
        "            }\n",
        "\n",
        "    intermediate_group = grouped.agg(agg_func)\n",
        "    intermediate_group.columns = ['_'.join(col).strip() for col in intermediate_group.columns.values]\n",
        "    intermediate_group.reset_index(inplace=True)\n",
        "\n",
        "    final_group = intermediate_group.groupby('card_id').agg(['mean', 'std'])\n",
        "    final_group.columns = ['_'.join(col).strip() for col in final_group.columns.values]\n",
        "    final_group.reset_index(inplace=True)\n",
        "    \n",
        "    return final_group\n",
        "\n",
        "final_group = aggregate_per_month(his_trans) "
      ],
      "execution_count": 0,
      "outputs": []
    },
    {
      "metadata": {
        "id": "-6D-NtGvaImg",
        "colab_type": "code",
        "colab": {
          "base_uri": "https://localhost:8080/",
          "height": 100
        },
        "outputId": "d54e3161-de3a-43a2-f784-bd8c04fa5b8c"
      },
      "cell_type": "code",
      "source": [
        "historical_transactions = reduce_mem_usage(his_trans)\n",
        "his_trans = aggregate_historical_transactions(historical_transactions, prefix='hist_')"
      ],
      "execution_count": 91,
      "outputs": [
        {
          "output_type": "stream",
          "text": [
            "Mem. usage decreased to 1166.08 Mb (62.5% reduction)\n",
            "h1\n",
            "h2\n",
            "h3\n",
            "h4\n"
          ],
          "name": "stdout"
        }
      ]
    },
    {
      "metadata": {
        "id": "ARk-4uKMxFbv",
        "colab_type": "code",
        "outputId": "ecfa7212-966b-46b8-e23b-c629dec69281",
        "colab": {
          "base_uri": "https://localhost:8080/",
          "height": 245
        }
      },
      "cell_type": "code",
      "source": [
        "his_trans.head()"
      ],
      "execution_count": 92,
      "outputs": [
        {
          "output_type": "execute_result",
          "data": {
            "text/html": [
              "<div>\n",
              "<style scoped>\n",
              "    .dataframe tbody tr th:only-of-type {\n",
              "        vertical-align: middle;\n",
              "    }\n",
              "\n",
              "    .dataframe tbody tr th {\n",
              "        vertical-align: top;\n",
              "    }\n",
              "\n",
              "    .dataframe thead th {\n",
              "        text-align: right;\n",
              "    }\n",
              "</style>\n",
              "<table border=\"1\" class=\"dataframe\">\n",
              "  <thead>\n",
              "    <tr style=\"text-align: right;\">\n",
              "      <th></th>\n",
              "      <th>card_id</th>\n",
              "      <th>hist_transactions_count</th>\n",
              "      <th>hist_category_1_sum</th>\n",
              "      <th>hist_category_1_mean</th>\n",
              "      <th>hist_category_2_1.0_mean</th>\n",
              "      <th>hist_category_2_1.0_sum</th>\n",
              "      <th>hist_category_2_2.0_mean</th>\n",
              "      <th>hist_category_2_2.0_sum</th>\n",
              "      <th>hist_category_2_3.0_mean</th>\n",
              "      <th>hist_category_2_3.0_sum</th>\n",
              "      <th>...</th>\n",
              "      <th>hist_purchase_month_max</th>\n",
              "      <th>hist_purchase_month_min</th>\n",
              "      <th>hist_purchase_date_max</th>\n",
              "      <th>hist_purchase_date_min</th>\n",
              "      <th>hist_month_lag_min</th>\n",
              "      <th>hist_month_lag_max</th>\n",
              "      <th>hist_merchant_category_id_nunique</th>\n",
              "      <th>hist_state_id_nunique</th>\n",
              "      <th>hist_subsector_id_nunique</th>\n",
              "      <th>hist_city_id_nunique</th>\n",
              "    </tr>\n",
              "  </thead>\n",
              "  <tbody>\n",
              "    <tr>\n",
              "      <th>0</th>\n",
              "      <td>C_ID_00007093c1</td>\n",
              "      <td>149</td>\n",
              "      <td>121.0</td>\n",
              "      <td>0.812081</td>\n",
              "      <td>0.000000</td>\n",
              "      <td>0.0</td>\n",
              "      <td>0.000000</td>\n",
              "      <td>0.0</td>\n",
              "      <td>0.805369</td>\n",
              "      <td>120.0</td>\n",
              "      <td>...</td>\n",
              "      <td>12</td>\n",
              "      <td>1</td>\n",
              "      <td>2018-02-27 05:14:57</td>\n",
              "      <td>2017-02-14 14:00:43</td>\n",
              "      <td>-12</td>\n",
              "      <td>0</td>\n",
              "      <td>18</td>\n",
              "      <td>3</td>\n",
              "      <td>13</td>\n",
              "      <td>4</td>\n",
              "    </tr>\n",
              "    <tr>\n",
              "      <th>1</th>\n",
              "      <td>C_ID_0001238066</td>\n",
              "      <td>123</td>\n",
              "      <td>121.0</td>\n",
              "      <td>0.983740</td>\n",
              "      <td>0.772358</td>\n",
              "      <td>95.0</td>\n",
              "      <td>0.000000</td>\n",
              "      <td>0.0</td>\n",
              "      <td>0.000000</td>\n",
              "      <td>0.0</td>\n",
              "      <td>...</td>\n",
              "      <td>12</td>\n",
              "      <td>1</td>\n",
              "      <td>2018-02-27 16:18:59</td>\n",
              "      <td>2017-09-28 22:25:14</td>\n",
              "      <td>-5</td>\n",
              "      <td>0</td>\n",
              "      <td>29</td>\n",
              "      <td>6</td>\n",
              "      <td>17</td>\n",
              "      <td>18</td>\n",
              "    </tr>\n",
              "    <tr>\n",
              "      <th>2</th>\n",
              "      <td>C_ID_0001506ef0</td>\n",
              "      <td>66</td>\n",
              "      <td>66.0</td>\n",
              "      <td>1.000000</td>\n",
              "      <td>0.030303</td>\n",
              "      <td>2.0</td>\n",
              "      <td>0.000000</td>\n",
              "      <td>0.0</td>\n",
              "      <td>0.969697</td>\n",
              "      <td>64.0</td>\n",
              "      <td>...</td>\n",
              "      <td>12</td>\n",
              "      <td>1</td>\n",
              "      <td>2018-02-17 12:33:56</td>\n",
              "      <td>2017-01-14 16:16:01</td>\n",
              "      <td>-13</td>\n",
              "      <td>0</td>\n",
              "      <td>19</td>\n",
              "      <td>2</td>\n",
              "      <td>12</td>\n",
              "      <td>3</td>\n",
              "    </tr>\n",
              "    <tr>\n",
              "      <th>3</th>\n",
              "      <td>C_ID_0001793786</td>\n",
              "      <td>216</td>\n",
              "      <td>214.0</td>\n",
              "      <td>0.990741</td>\n",
              "      <td>0.050926</td>\n",
              "      <td>11.0</td>\n",
              "      <td>0.351852</td>\n",
              "      <td>76.0</td>\n",
              "      <td>0.069444</td>\n",
              "      <td>15.0</td>\n",
              "      <td>...</td>\n",
              "      <td>10</td>\n",
              "      <td>1</td>\n",
              "      <td>2017-10-31 20:20:18</td>\n",
              "      <td>2017-01-21 10:15:21</td>\n",
              "      <td>-9</td>\n",
              "      <td>0</td>\n",
              "      <td>48</td>\n",
              "      <td>4</td>\n",
              "      <td>24</td>\n",
              "      <td>10</td>\n",
              "    </tr>\n",
              "    <tr>\n",
              "      <th>4</th>\n",
              "      <td>C_ID_000183fdda</td>\n",
              "      <td>144</td>\n",
              "      <td>140.0</td>\n",
              "      <td>0.972222</td>\n",
              "      <td>0.048611</td>\n",
              "      <td>7.0</td>\n",
              "      <td>0.006944</td>\n",
              "      <td>1.0</td>\n",
              "      <td>0.909722</td>\n",
              "      <td>131.0</td>\n",
              "      <td>...</td>\n",
              "      <td>12</td>\n",
              "      <td>1</td>\n",
              "      <td>2018-02-25 20:57:08</td>\n",
              "      <td>2017-08-07 09:49:14</td>\n",
              "      <td>-6</td>\n",
              "      <td>0</td>\n",
              "      <td>36</td>\n",
              "      <td>7</td>\n",
              "      <td>21</td>\n",
              "      <td>9</td>\n",
              "    </tr>\n",
              "  </tbody>\n",
              "</table>\n",
              "<p>5 rows × 36 columns</p>\n",
              "</div>"
            ],
            "text/plain": [
              "           card_id  hist_transactions_count  hist_category_1_sum  \\\n",
              "0  C_ID_00007093c1                      149                121.0   \n",
              "1  C_ID_0001238066                      123                121.0   \n",
              "2  C_ID_0001506ef0                       66                 66.0   \n",
              "3  C_ID_0001793786                      216                214.0   \n",
              "4  C_ID_000183fdda                      144                140.0   \n",
              "\n",
              "   hist_category_1_mean  hist_category_2_1.0_mean  hist_category_2_1.0_sum  \\\n",
              "0              0.812081                  0.000000                      0.0   \n",
              "1              0.983740                  0.772358                     95.0   \n",
              "2              1.000000                  0.030303                      2.0   \n",
              "3              0.990741                  0.050926                     11.0   \n",
              "4              0.972222                  0.048611                      7.0   \n",
              "\n",
              "   hist_category_2_2.0_mean  hist_category_2_2.0_sum  \\\n",
              "0                  0.000000                      0.0   \n",
              "1                  0.000000                      0.0   \n",
              "2                  0.000000                      0.0   \n",
              "3                  0.351852                     76.0   \n",
              "4                  0.006944                      1.0   \n",
              "\n",
              "   hist_category_2_3.0_mean  hist_category_2_3.0_sum          ...           \\\n",
              "0                  0.805369                    120.0          ...            \n",
              "1                  0.000000                      0.0          ...            \n",
              "2                  0.969697                     64.0          ...            \n",
              "3                  0.069444                     15.0          ...            \n",
              "4                  0.909722                    131.0          ...            \n",
              "\n",
              "   hist_purchase_month_max  hist_purchase_month_min  hist_purchase_date_max  \\\n",
              "0                       12                        1     2018-02-27 05:14:57   \n",
              "1                       12                        1     2018-02-27 16:18:59   \n",
              "2                       12                        1     2018-02-17 12:33:56   \n",
              "3                       10                        1     2017-10-31 20:20:18   \n",
              "4                       12                        1     2018-02-25 20:57:08   \n",
              "\n",
              "   hist_purchase_date_min  hist_month_lag_min  hist_month_lag_max  \\\n",
              "0     2017-02-14 14:00:43                 -12                   0   \n",
              "1     2017-09-28 22:25:14                  -5                   0   \n",
              "2     2017-01-14 16:16:01                 -13                   0   \n",
              "3     2017-01-21 10:15:21                  -9                   0   \n",
              "4     2017-08-07 09:49:14                  -6                   0   \n",
              "\n",
              "   hist_merchant_category_id_nunique  hist_state_id_nunique  \\\n",
              "0                                 18                      3   \n",
              "1                                 29                      6   \n",
              "2                                 19                      2   \n",
              "3                                 48                      4   \n",
              "4                                 36                      7   \n",
              "\n",
              "   hist_subsector_id_nunique  hist_city_id_nunique  \n",
              "0                         13                     4  \n",
              "1                         17                    18  \n",
              "2                         12                     3  \n",
              "3                         24                    10  \n",
              "4                         21                     9  \n",
              "\n",
              "[5 rows x 36 columns]"
            ]
          },
          "metadata": {
            "tags": []
          },
          "execution_count": 92
        }
      ]
    },
    {
      "metadata": {
        "id": "ALO5clTAxFeM",
        "colab_type": "code",
        "colab": {
          "base_uri": "https://localhost:8080/",
          "height": 785
        },
        "outputId": "363439c0-3001-4f58-ce12-7c7b6a3a174c"
      },
      "cell_type": "code",
      "source": [
        "train = pd.merge(train, his_trans, on='card_id', how='left')\n",
        "test = pd.merge(test, his_trans, on='card_id', how='left')\n",
        "del his_trans"
      ],
      "execution_count": 93,
      "outputs": [
        {
          "output_type": "error",
          "ename": "ValueError",
          "evalue": "ignored",
          "traceback": [
            "\u001b[0;31m---------------------------------------------------------------------------\u001b[0m",
            "\u001b[0;31mValueError\u001b[0m                                Traceback (most recent call last)",
            "\u001b[0;31mValueError\u001b[0m: Buffer dtype mismatch, expected 'Python object' but got 'long'"
          ]
        },
        {
          "output_type": "stream",
          "text": [
            "Exception ignored in: 'pandas._libs.lib.is_bool_array'\n",
            "ValueError: Buffer dtype mismatch, expected 'Python object' but got 'long'\n"
          ],
          "name": "stderr"
        },
        {
          "output_type": "error",
          "ename": "ValueError",
          "evalue": "ignored",
          "traceback": [
            "\u001b[0;31m---------------------------------------------------------------------------\u001b[0m",
            "\u001b[0;31mValueError\u001b[0m                                Traceback (most recent call last)",
            "\u001b[0;31mValueError\u001b[0m: Buffer dtype mismatch, expected 'Python object' but got 'long'"
          ]
        },
        {
          "output_type": "stream",
          "text": [
            "Exception ignored in: 'pandas._libs.lib.is_bool_array'\n",
            "ValueError: Buffer dtype mismatch, expected 'Python object' but got 'long'\n"
          ],
          "name": "stderr"
        },
        {
          "output_type": "error",
          "ename": "ValueError",
          "evalue": "ignored",
          "traceback": [
            "\u001b[0;31m---------------------------------------------------------------------------\u001b[0m",
            "\u001b[0;31mValueError\u001b[0m                                Traceback (most recent call last)",
            "\u001b[0;31mValueError\u001b[0m: Buffer dtype mismatch, expected 'Python object' but got 'long'"
          ]
        },
        {
          "output_type": "stream",
          "text": [
            "Exception ignored in: 'pandas._libs.lib.is_bool_array'\n",
            "ValueError: Buffer dtype mismatch, expected 'Python object' but got 'long'\n"
          ],
          "name": "stderr"
        },
        {
          "output_type": "error",
          "ename": "ValueError",
          "evalue": "ignored",
          "traceback": [
            "\u001b[0;31m---------------------------------------------------------------------------\u001b[0m",
            "\u001b[0;31mValueError\u001b[0m                                Traceback (most recent call last)",
            "\u001b[0;31mValueError\u001b[0m: Buffer dtype mismatch, expected 'Python object' but got 'long'"
          ]
        },
        {
          "output_type": "stream",
          "text": [
            "Exception ignored in: 'pandas._libs.lib.is_bool_array'\n",
            "ValueError: Buffer dtype mismatch, expected 'Python object' but got 'long'\n"
          ],
          "name": "stderr"
        },
        {
          "output_type": "error",
          "ename": "ValueError",
          "evalue": "ignored",
          "traceback": [
            "\u001b[0;31m---------------------------------------------------------------------------\u001b[0m",
            "\u001b[0;31mValueError\u001b[0m                                Traceback (most recent call last)",
            "\u001b[0;31mValueError\u001b[0m: Buffer dtype mismatch, expected 'Python object' but got 'long'"
          ]
        },
        {
          "output_type": "stream",
          "text": [
            "Exception ignored in: 'pandas._libs.lib.is_bool_array'\n",
            "ValueError: Buffer dtype mismatch, expected 'Python object' but got 'long'\n"
          ],
          "name": "stderr"
        },
        {
          "output_type": "error",
          "ename": "ValueError",
          "evalue": "ignored",
          "traceback": [
            "\u001b[0;31m---------------------------------------------------------------------------\u001b[0m",
            "\u001b[0;31mValueError\u001b[0m                                Traceback (most recent call last)",
            "\u001b[0;31mValueError\u001b[0m: Buffer dtype mismatch, expected 'Python object' but got 'long'"
          ]
        },
        {
          "output_type": "stream",
          "text": [
            "Exception ignored in: 'pandas._libs.lib.is_bool_array'\n",
            "ValueError: Buffer dtype mismatch, expected 'Python object' but got 'long'\n"
          ],
          "name": "stderr"
        }
      ]
    },
    {
      "metadata": {
        "id": "bhNBwzzPxkkP",
        "colab_type": "code",
        "colab": {
          "base_uri": "https://localhost:8080/",
          "height": 245
        },
        "outputId": "ae160fc0-8863-473a-a881-edf2fadd8110"
      },
      "cell_type": "code",
      "source": [
        "train.head()"
      ],
      "execution_count": 94,
      "outputs": [
        {
          "output_type": "execute_result",
          "data": {
            "text/html": [
              "<div>\n",
              "<style scoped>\n",
              "    .dataframe tbody tr th:only-of-type {\n",
              "        vertical-align: middle;\n",
              "    }\n",
              "\n",
              "    .dataframe tbody tr th {\n",
              "        vertical-align: top;\n",
              "    }\n",
              "\n",
              "    .dataframe thead th {\n",
              "        text-align: right;\n",
              "    }\n",
              "</style>\n",
              "<table border=\"1\" class=\"dataframe\">\n",
              "  <thead>\n",
              "    <tr style=\"text-align: right;\">\n",
              "      <th></th>\n",
              "      <th>first_active_month</th>\n",
              "      <th>card_id</th>\n",
              "      <th>feature_1</th>\n",
              "      <th>feature_2</th>\n",
              "      <th>feature_3</th>\n",
              "      <th>target</th>\n",
              "      <th>first_active_month_year</th>\n",
              "      <th>first_active_month_month</th>\n",
              "      <th>first_active_month_weekday</th>\n",
              "      <th>elasped_time</th>\n",
              "      <th>...</th>\n",
              "      <th>hist_purchase_month_max</th>\n",
              "      <th>hist_purchase_month_min</th>\n",
              "      <th>hist_purchase_date_max</th>\n",
              "      <th>hist_purchase_date_min</th>\n",
              "      <th>hist_month_lag_min</th>\n",
              "      <th>hist_month_lag_max</th>\n",
              "      <th>hist_merchant_category_id_nunique</th>\n",
              "      <th>hist_state_id_nunique</th>\n",
              "      <th>hist_subsector_id_nunique</th>\n",
              "      <th>hist_city_id_nunique</th>\n",
              "    </tr>\n",
              "  </thead>\n",
              "  <tbody>\n",
              "    <tr>\n",
              "      <th>0</th>\n",
              "      <td>2017-06-01</td>\n",
              "      <td>C_ID_92a2005557</td>\n",
              "      <td>5</td>\n",
              "      <td>2</td>\n",
              "      <td>1</td>\n",
              "      <td>-0.820283</td>\n",
              "      <td>2017</td>\n",
              "      <td>6</td>\n",
              "      <td>3</td>\n",
              "      <td>245</td>\n",
              "      <td>...</td>\n",
              "      <td>12</td>\n",
              "      <td>1</td>\n",
              "      <td>2018-02-25 09:31:15</td>\n",
              "      <td>2017-06-27 14:18:08</td>\n",
              "      <td>-8</td>\n",
              "      <td>0</td>\n",
              "      <td>41</td>\n",
              "      <td>3</td>\n",
              "      <td>21</td>\n",
              "      <td>7</td>\n",
              "    </tr>\n",
              "    <tr>\n",
              "      <th>1</th>\n",
              "      <td>2017-01-01</td>\n",
              "      <td>C_ID_3d0044924f</td>\n",
              "      <td>4</td>\n",
              "      <td>1</td>\n",
              "      <td>0</td>\n",
              "      <td>0.392913</td>\n",
              "      <td>2017</td>\n",
              "      <td>1</td>\n",
              "      <td>6</td>\n",
              "      <td>396</td>\n",
              "      <td>...</td>\n",
              "      <td>12</td>\n",
              "      <td>1</td>\n",
              "      <td>2018-01-31 22:31:09</td>\n",
              "      <td>2017-01-06 16:29:42</td>\n",
              "      <td>-12</td>\n",
              "      <td>0</td>\n",
              "      <td>57</td>\n",
              "      <td>3</td>\n",
              "      <td>24</td>\n",
              "      <td>9</td>\n",
              "    </tr>\n",
              "    <tr>\n",
              "      <th>2</th>\n",
              "      <td>2016-08-01</td>\n",
              "      <td>C_ID_d639edf6cd</td>\n",
              "      <td>2</td>\n",
              "      <td>2</td>\n",
              "      <td>0</td>\n",
              "      <td>0.688056</td>\n",
              "      <td>2016</td>\n",
              "      <td>8</td>\n",
              "      <td>0</td>\n",
              "      <td>549</td>\n",
              "      <td>...</td>\n",
              "      <td>12</td>\n",
              "      <td>1</td>\n",
              "      <td>2018-02-27 19:08:25</td>\n",
              "      <td>2017-01-11 08:21:22</td>\n",
              "      <td>-13</td>\n",
              "      <td>0</td>\n",
              "      <td>8</td>\n",
              "      <td>2</td>\n",
              "      <td>7</td>\n",
              "      <td>5</td>\n",
              "    </tr>\n",
              "    <tr>\n",
              "      <th>3</th>\n",
              "      <td>2017-09-01</td>\n",
              "      <td>C_ID_186d6a6901</td>\n",
              "      <td>4</td>\n",
              "      <td>3</td>\n",
              "      <td>0</td>\n",
              "      <td>0.142495</td>\n",
              "      <td>2017</td>\n",
              "      <td>9</td>\n",
              "      <td>4</td>\n",
              "      <td>153</td>\n",
              "      <td>...</td>\n",
              "      <td>12</td>\n",
              "      <td>1</td>\n",
              "      <td>2018-02-28 11:44:40</td>\n",
              "      <td>2017-09-26 16:22:21</td>\n",
              "      <td>-5</td>\n",
              "      <td>0</td>\n",
              "      <td>25</td>\n",
              "      <td>5</td>\n",
              "      <td>13</td>\n",
              "      <td>7</td>\n",
              "    </tr>\n",
              "    <tr>\n",
              "      <th>4</th>\n",
              "      <td>2017-11-01</td>\n",
              "      <td>C_ID_cdbd2c0db2</td>\n",
              "      <td>1</td>\n",
              "      <td>3</td>\n",
              "      <td>0</td>\n",
              "      <td>-0.159749</td>\n",
              "      <td>2017</td>\n",
              "      <td>11</td>\n",
              "      <td>2</td>\n",
              "      <td>92</td>\n",
              "      <td>...</td>\n",
              "      <td>12</td>\n",
              "      <td>1</td>\n",
              "      <td>2018-02-28 20:40:41</td>\n",
              "      <td>2017-11-12 00:00:00</td>\n",
              "      <td>-3</td>\n",
              "      <td>0</td>\n",
              "      <td>26</td>\n",
              "      <td>6</td>\n",
              "      <td>17</td>\n",
              "      <td>6</td>\n",
              "    </tr>\n",
              "  </tbody>\n",
              "</table>\n",
              "<p>5 rows × 45 columns</p>\n",
              "</div>"
            ],
            "text/plain": [
              "  first_active_month          card_id feature_1 feature_2 feature_3    target  \\\n",
              "0         2017-06-01  C_ID_92a2005557         5         2         1 -0.820283   \n",
              "1         2017-01-01  C_ID_3d0044924f         4         1         0  0.392913   \n",
              "2         2016-08-01  C_ID_d639edf6cd         2         2         0  0.688056   \n",
              "3         2017-09-01  C_ID_186d6a6901         4         3         0  0.142495   \n",
              "4         2017-11-01  C_ID_cdbd2c0db2         1         3         0 -0.159749   \n",
              "\n",
              "   first_active_month_year  first_active_month_month  \\\n",
              "0                     2017                         6   \n",
              "1                     2017                         1   \n",
              "2                     2016                         8   \n",
              "3                     2017                         9   \n",
              "4                     2017                        11   \n",
              "\n",
              "   first_active_month_weekday  elasped_time          ...           \\\n",
              "0                           3           245          ...            \n",
              "1                           6           396          ...            \n",
              "2                           0           549          ...            \n",
              "3                           4           153          ...            \n",
              "4                           2            92          ...            \n",
              "\n",
              "   hist_purchase_month_max  hist_purchase_month_min  hist_purchase_date_max  \\\n",
              "0                       12                        1     2018-02-25 09:31:15   \n",
              "1                       12                        1     2018-01-31 22:31:09   \n",
              "2                       12                        1     2018-02-27 19:08:25   \n",
              "3                       12                        1     2018-02-28 11:44:40   \n",
              "4                       12                        1     2018-02-28 20:40:41   \n",
              "\n",
              "   hist_purchase_date_min  hist_month_lag_min  hist_month_lag_max  \\\n",
              "0     2017-06-27 14:18:08                  -8                   0   \n",
              "1     2017-01-06 16:29:42                 -12                   0   \n",
              "2     2017-01-11 08:21:22                 -13                   0   \n",
              "3     2017-09-26 16:22:21                  -5                   0   \n",
              "4     2017-11-12 00:00:00                  -3                   0   \n",
              "\n",
              "   hist_merchant_category_id_nunique  hist_state_id_nunique  \\\n",
              "0                                 41                      3   \n",
              "1                                 57                      3   \n",
              "2                                  8                      2   \n",
              "3                                 25                      5   \n",
              "4                                 26                      6   \n",
              "\n",
              "   hist_subsector_id_nunique  hist_city_id_nunique  \n",
              "0                         21                     7  \n",
              "1                         24                     9  \n",
              "2                          7                     5  \n",
              "3                         13                     7  \n",
              "4                         17                     6  \n",
              "\n",
              "[5 rows x 45 columns]"
            ]
          },
          "metadata": {
            "tags": []
          },
          "execution_count": 94
        }
      ]
    },
    {
      "metadata": {
        "id": "g8QF53kJxFgl",
        "colab_type": "code",
        "colab": {
          "base_uri": "https://localhost:8080/",
          "height": 33
        },
        "outputId": "638eac5f-a0b8-4ce7-ef69-8563e14a729d"
      },
      "cell_type": "code",
      "source": [
        "del historical_transactions\n",
        "gc.collect()"
      ],
      "execution_count": 95,
      "outputs": [
        {
          "output_type": "execute_result",
          "data": {
            "text/plain": [
              "1249"
            ]
          },
          "metadata": {
            "tags": []
          },
          "execution_count": 95
        }
      ]
    },
    {
      "metadata": {
        "id": "QenQTmB-xFir",
        "colab_type": "code",
        "colab": {
          "base_uri": "https://localhost:8080/",
          "height": 1013
        },
        "outputId": "5601be91-917b-4065-8385-8d8ccacb44dc"
      },
      "cell_type": "code",
      "source": [
        "train = pd.merge(train, n_merch_trans, on='card_id', how='left')\n",
        "test = pd.merge(test, n_merch_trans, on='card_id', how='left')\n",
        "train.head()"
      ],
      "execution_count": 96,
      "outputs": [
        {
          "output_type": "error",
          "ename": "ValueError",
          "evalue": "ignored",
          "traceback": [
            "\u001b[0;31m---------------------------------------------------------------------------\u001b[0m",
            "\u001b[0;31mValueError\u001b[0m                                Traceback (most recent call last)",
            "\u001b[0;31mValueError\u001b[0m: Buffer dtype mismatch, expected 'Python object' but got 'long'"
          ]
        },
        {
          "output_type": "stream",
          "text": [
            "Exception ignored in: 'pandas._libs.lib.is_bool_array'\n",
            "ValueError: Buffer dtype mismatch, expected 'Python object' but got 'long'\n"
          ],
          "name": "stderr"
        },
        {
          "output_type": "error",
          "ename": "ValueError",
          "evalue": "ignored",
          "traceback": [
            "\u001b[0;31m---------------------------------------------------------------------------\u001b[0m",
            "\u001b[0;31mValueError\u001b[0m                                Traceback (most recent call last)",
            "\u001b[0;31mValueError\u001b[0m: Buffer dtype mismatch, expected 'Python object' but got 'long'"
          ]
        },
        {
          "output_type": "stream",
          "text": [
            "Exception ignored in: 'pandas._libs.lib.is_bool_array'\n",
            "ValueError: Buffer dtype mismatch, expected 'Python object' but got 'long'\n"
          ],
          "name": "stderr"
        },
        {
          "output_type": "error",
          "ename": "ValueError",
          "evalue": "ignored",
          "traceback": [
            "\u001b[0;31m---------------------------------------------------------------------------\u001b[0m",
            "\u001b[0;31mValueError\u001b[0m                                Traceback (most recent call last)",
            "\u001b[0;31mValueError\u001b[0m: Buffer dtype mismatch, expected 'Python object' but got 'long'"
          ]
        },
        {
          "output_type": "stream",
          "text": [
            "Exception ignored in: 'pandas._libs.lib.is_bool_array'\n",
            "ValueError: Buffer dtype mismatch, expected 'Python object' but got 'long'\n"
          ],
          "name": "stderr"
        },
        {
          "output_type": "error",
          "ename": "ValueError",
          "evalue": "ignored",
          "traceback": [
            "\u001b[0;31m---------------------------------------------------------------------------\u001b[0m",
            "\u001b[0;31mValueError\u001b[0m                                Traceback (most recent call last)",
            "\u001b[0;31mValueError\u001b[0m: Buffer dtype mismatch, expected 'Python object' but got 'long'"
          ]
        },
        {
          "output_type": "stream",
          "text": [
            "Exception ignored in: 'pandas._libs.lib.is_bool_array'\n",
            "ValueError: Buffer dtype mismatch, expected 'Python object' but got 'long'\n"
          ],
          "name": "stderr"
        },
        {
          "output_type": "error",
          "ename": "ValueError",
          "evalue": "ignored",
          "traceback": [
            "\u001b[0;31m---------------------------------------------------------------------------\u001b[0m",
            "\u001b[0;31mValueError\u001b[0m                                Traceback (most recent call last)",
            "\u001b[0;31mValueError\u001b[0m: Buffer dtype mismatch, expected 'Python object' but got 'long'"
          ]
        },
        {
          "output_type": "stream",
          "text": [
            "Exception ignored in: 'pandas._libs.lib.is_bool_array'\n",
            "ValueError: Buffer dtype mismatch, expected 'Python object' but got 'long'\n"
          ],
          "name": "stderr"
        },
        {
          "output_type": "error",
          "ename": "ValueError",
          "evalue": "ignored",
          "traceback": [
            "\u001b[0;31m---------------------------------------------------------------------------\u001b[0m",
            "\u001b[0;31mValueError\u001b[0m                                Traceback (most recent call last)",
            "\u001b[0;31mValueError\u001b[0m: Buffer dtype mismatch, expected 'Python object' but got 'long'"
          ]
        },
        {
          "output_type": "stream",
          "text": [
            "Exception ignored in: 'pandas._libs.lib.is_bool_array'\n",
            "ValueError: Buffer dtype mismatch, expected 'Python object' but got 'long'\n"
          ],
          "name": "stderr"
        },
        {
          "output_type": "execute_result",
          "data": {
            "text/html": [
              "<div>\n",
              "<style scoped>\n",
              "    .dataframe tbody tr th:only-of-type {\n",
              "        vertical-align: middle;\n",
              "    }\n",
              "\n",
              "    .dataframe tbody tr th {\n",
              "        vertical-align: top;\n",
              "    }\n",
              "\n",
              "    .dataframe thead th {\n",
              "        text-align: right;\n",
              "    }\n",
              "</style>\n",
              "<table border=\"1\" class=\"dataframe\">\n",
              "  <thead>\n",
              "    <tr style=\"text-align: right;\">\n",
              "      <th></th>\n",
              "      <th>first_active_month</th>\n",
              "      <th>card_id</th>\n",
              "      <th>feature_1</th>\n",
              "      <th>feature_2</th>\n",
              "      <th>feature_3</th>\n",
              "      <th>target</th>\n",
              "      <th>first_active_month_year</th>\n",
              "      <th>first_active_month_month</th>\n",
              "      <th>first_active_month_weekday</th>\n",
              "      <th>elasped_time</th>\n",
              "      <th>...</th>\n",
              "      <th>newpurchase_month_max</th>\n",
              "      <th>newpurchase_month_min</th>\n",
              "      <th>newpurchase_date_max</th>\n",
              "      <th>newpurchase_date_min</th>\n",
              "      <th>newmonth_lag_min</th>\n",
              "      <th>newmonth_lag_max</th>\n",
              "      <th>newmerchant_category_id_nunique</th>\n",
              "      <th>newstate_id_nunique</th>\n",
              "      <th>newsubsector_id_nunique</th>\n",
              "      <th>newcity_id_nunique</th>\n",
              "    </tr>\n",
              "  </thead>\n",
              "  <tbody>\n",
              "    <tr>\n",
              "      <th>0</th>\n",
              "      <td>2017-06-01</td>\n",
              "      <td>C_ID_92a2005557</td>\n",
              "      <td>5</td>\n",
              "      <td>2</td>\n",
              "      <td>1</td>\n",
              "      <td>-0.820283</td>\n",
              "      <td>2017</td>\n",
              "      <td>6</td>\n",
              "      <td>3</td>\n",
              "      <td>245</td>\n",
              "      <td>...</td>\n",
              "      <td>4.0</td>\n",
              "      <td>3.0</td>\n",
              "      <td>2018-04-29 11:23:05</td>\n",
              "      <td>2018-03-05 14:04:36</td>\n",
              "      <td>1.0</td>\n",
              "      <td>2.0</td>\n",
              "      <td>14.0</td>\n",
              "      <td>1.0</td>\n",
              "      <td>10.0</td>\n",
              "      <td>3.0</td>\n",
              "    </tr>\n",
              "    <tr>\n",
              "      <th>1</th>\n",
              "      <td>2017-01-01</td>\n",
              "      <td>C_ID_3d0044924f</td>\n",
              "      <td>4</td>\n",
              "      <td>1</td>\n",
              "      <td>0</td>\n",
              "      <td>0.392913</td>\n",
              "      <td>2017</td>\n",
              "      <td>1</td>\n",
              "      <td>6</td>\n",
              "      <td>396</td>\n",
              "      <td>...</td>\n",
              "      <td>3.0</td>\n",
              "      <td>2.0</td>\n",
              "      <td>2018-03-30 06:48:26</td>\n",
              "      <td>2018-02-01 17:07:54</td>\n",
              "      <td>1.0</td>\n",
              "      <td>2.0</td>\n",
              "      <td>5.0</td>\n",
              "      <td>1.0</td>\n",
              "      <td>4.0</td>\n",
              "      <td>1.0</td>\n",
              "    </tr>\n",
              "    <tr>\n",
              "      <th>2</th>\n",
              "      <td>2016-08-01</td>\n",
              "      <td>C_ID_d639edf6cd</td>\n",
              "      <td>2</td>\n",
              "      <td>2</td>\n",
              "      <td>0</td>\n",
              "      <td>0.688056</td>\n",
              "      <td>2016</td>\n",
              "      <td>8</td>\n",
              "      <td>0</td>\n",
              "      <td>549</td>\n",
              "      <td>...</td>\n",
              "      <td>4.0</td>\n",
              "      <td>4.0</td>\n",
              "      <td>2018-04-28 17:43:11</td>\n",
              "      <td>2018-04-28 17:43:11</td>\n",
              "      <td>2.0</td>\n",
              "      <td>2.0</td>\n",
              "      <td>1.0</td>\n",
              "      <td>1.0</td>\n",
              "      <td>1.0</td>\n",
              "      <td>1.0</td>\n",
              "    </tr>\n",
              "    <tr>\n",
              "      <th>3</th>\n",
              "      <td>2017-09-01</td>\n",
              "      <td>C_ID_186d6a6901</td>\n",
              "      <td>4</td>\n",
              "      <td>3</td>\n",
              "      <td>0</td>\n",
              "      <td>0.142495</td>\n",
              "      <td>2017</td>\n",
              "      <td>9</td>\n",
              "      <td>4</td>\n",
              "      <td>153</td>\n",
              "      <td>...</td>\n",
              "      <td>4.0</td>\n",
              "      <td>3.0</td>\n",
              "      <td>2018-04-18 11:00:11</td>\n",
              "      <td>2018-03-07 11:55:06</td>\n",
              "      <td>1.0</td>\n",
              "      <td>2.0</td>\n",
              "      <td>6.0</td>\n",
              "      <td>2.0</td>\n",
              "      <td>5.0</td>\n",
              "      <td>2.0</td>\n",
              "    </tr>\n",
              "    <tr>\n",
              "      <th>4</th>\n",
              "      <td>2017-11-01</td>\n",
              "      <td>C_ID_cdbd2c0db2</td>\n",
              "      <td>1</td>\n",
              "      <td>3</td>\n",
              "      <td>0</td>\n",
              "      <td>-0.159749</td>\n",
              "      <td>2017</td>\n",
              "      <td>11</td>\n",
              "      <td>2</td>\n",
              "      <td>92</td>\n",
              "      <td>...</td>\n",
              "      <td>4.0</td>\n",
              "      <td>3.0</td>\n",
              "      <td>2018-04-28 18:50:25</td>\n",
              "      <td>2018-03-02 11:55:43</td>\n",
              "      <td>1.0</td>\n",
              "      <td>2.0</td>\n",
              "      <td>17.0</td>\n",
              "      <td>5.0</td>\n",
              "      <td>10.0</td>\n",
              "      <td>5.0</td>\n",
              "    </tr>\n",
              "  </tbody>\n",
              "</table>\n",
              "<p>5 rows × 80 columns</p>\n",
              "</div>"
            ],
            "text/plain": [
              "  first_active_month          card_id feature_1 feature_2 feature_3    target  \\\n",
              "0         2017-06-01  C_ID_92a2005557         5         2         1 -0.820283   \n",
              "1         2017-01-01  C_ID_3d0044924f         4         1         0  0.392913   \n",
              "2         2016-08-01  C_ID_d639edf6cd         2         2         0  0.688056   \n",
              "3         2017-09-01  C_ID_186d6a6901         4         3         0  0.142495   \n",
              "4         2017-11-01  C_ID_cdbd2c0db2         1         3         0 -0.159749   \n",
              "\n",
              "   first_active_month_year  first_active_month_month  \\\n",
              "0                     2017                         6   \n",
              "1                     2017                         1   \n",
              "2                     2016                         8   \n",
              "3                     2017                         9   \n",
              "4                     2017                        11   \n",
              "\n",
              "   first_active_month_weekday  elasped_time         ...          \\\n",
              "0                           3           245         ...           \n",
              "1                           6           396         ...           \n",
              "2                           0           549         ...           \n",
              "3                           4           153         ...           \n",
              "4                           2            92         ...           \n",
              "\n",
              "   newpurchase_month_max  newpurchase_month_min  newpurchase_date_max  \\\n",
              "0                    4.0                    3.0   2018-04-29 11:23:05   \n",
              "1                    3.0                    2.0   2018-03-30 06:48:26   \n",
              "2                    4.0                    4.0   2018-04-28 17:43:11   \n",
              "3                    4.0                    3.0   2018-04-18 11:00:11   \n",
              "4                    4.0                    3.0   2018-04-28 18:50:25   \n",
              "\n",
              "   newpurchase_date_min  newmonth_lag_min  newmonth_lag_max  \\\n",
              "0   2018-03-05 14:04:36               1.0               2.0   \n",
              "1   2018-02-01 17:07:54               1.0               2.0   \n",
              "2   2018-04-28 17:43:11               2.0               2.0   \n",
              "3   2018-03-07 11:55:06               1.0               2.0   \n",
              "4   2018-03-02 11:55:43               1.0               2.0   \n",
              "\n",
              "   newmerchant_category_id_nunique  newstate_id_nunique  \\\n",
              "0                             14.0                  1.0   \n",
              "1                              5.0                  1.0   \n",
              "2                              1.0                  1.0   \n",
              "3                              6.0                  2.0   \n",
              "4                             17.0                  5.0   \n",
              "\n",
              "   newsubsector_id_nunique  newcity_id_nunique  \n",
              "0                     10.0                 3.0  \n",
              "1                      4.0                 1.0  \n",
              "2                      1.0                 1.0  \n",
              "3                      5.0                 2.0  \n",
              "4                     10.0                 5.0  \n",
              "\n",
              "[5 rows x 80 columns]"
            ]
          },
          "metadata": {
            "tags": []
          },
          "execution_count": 96
        }
      ]
    },
    {
      "metadata": {
        "id": "Np2R9IgIxFk1",
        "colab_type": "code",
        "colab": {
          "base_uri": "https://localhost:8080/",
          "height": 33
        },
        "outputId": "1b46e750-30da-4e51-da17-afd30dd8eeb7"
      },
      "cell_type": "code",
      "source": [
        "del n_merch_trans\n",
        "gc.collect()"
      ],
      "execution_count": 97,
      "outputs": [
        {
          "output_type": "execute_result",
          "data": {
            "text/plain": [
              "219"
            ]
          },
          "metadata": {
            "tags": []
          },
          "execution_count": 97
        }
      ]
    },
    {
      "metadata": {
        "id": "Vj2cto9u8tiC",
        "colab_type": "code",
        "colab": {
          "base_uri": "https://localhost:8080/",
          "height": 785
        },
        "outputId": "db114d45-c2f0-4be1-8454-54de3629d613"
      },
      "cell_type": "code",
      "source": [
        "train = pd.merge(train, final_group, on='card_id')\n",
        "test = pd.merge(test, final_group, on='card_id')\n",
        "gc.collect()\n",
        "del final_group"
      ],
      "execution_count": 98,
      "outputs": [
        {
          "output_type": "error",
          "ename": "ValueError",
          "evalue": "ignored",
          "traceback": [
            "\u001b[0;31m---------------------------------------------------------------------------\u001b[0m",
            "\u001b[0;31mValueError\u001b[0m                                Traceback (most recent call last)",
            "\u001b[0;31mValueError\u001b[0m: Buffer dtype mismatch, expected 'Python object' but got 'long'"
          ]
        },
        {
          "output_type": "stream",
          "text": [
            "Exception ignored in: 'pandas._libs.lib.is_bool_array'\n",
            "ValueError: Buffer dtype mismatch, expected 'Python object' but got 'long'\n"
          ],
          "name": "stderr"
        },
        {
          "output_type": "error",
          "ename": "ValueError",
          "evalue": "ignored",
          "traceback": [
            "\u001b[0;31m---------------------------------------------------------------------------\u001b[0m",
            "\u001b[0;31mValueError\u001b[0m                                Traceback (most recent call last)",
            "\u001b[0;31mValueError\u001b[0m: Buffer dtype mismatch, expected 'Python object' but got 'long'"
          ]
        },
        {
          "output_type": "stream",
          "text": [
            "Exception ignored in: 'pandas._libs.lib.is_bool_array'\n",
            "ValueError: Buffer dtype mismatch, expected 'Python object' but got 'long'\n"
          ],
          "name": "stderr"
        },
        {
          "output_type": "error",
          "ename": "ValueError",
          "evalue": "ignored",
          "traceback": [
            "\u001b[0;31m---------------------------------------------------------------------------\u001b[0m",
            "\u001b[0;31mValueError\u001b[0m                                Traceback (most recent call last)",
            "\u001b[0;31mValueError\u001b[0m: Buffer dtype mismatch, expected 'Python object' but got 'long'"
          ]
        },
        {
          "output_type": "stream",
          "text": [
            "Exception ignored in: 'pandas._libs.lib.is_bool_array'\n",
            "ValueError: Buffer dtype mismatch, expected 'Python object' but got 'long'\n"
          ],
          "name": "stderr"
        },
        {
          "output_type": "error",
          "ename": "ValueError",
          "evalue": "ignored",
          "traceback": [
            "\u001b[0;31m---------------------------------------------------------------------------\u001b[0m",
            "\u001b[0;31mValueError\u001b[0m                                Traceback (most recent call last)",
            "\u001b[0;31mValueError\u001b[0m: Buffer dtype mismatch, expected 'Python object' but got 'long'"
          ]
        },
        {
          "output_type": "stream",
          "text": [
            "Exception ignored in: 'pandas._libs.lib.is_bool_array'\n",
            "ValueError: Buffer dtype mismatch, expected 'Python object' but got 'long'\n"
          ],
          "name": "stderr"
        },
        {
          "output_type": "error",
          "ename": "ValueError",
          "evalue": "ignored",
          "traceback": [
            "\u001b[0;31m---------------------------------------------------------------------------\u001b[0m",
            "\u001b[0;31mValueError\u001b[0m                                Traceback (most recent call last)",
            "\u001b[0;31mValueError\u001b[0m: Buffer dtype mismatch, expected 'Python object' but got 'long'"
          ]
        },
        {
          "output_type": "stream",
          "text": [
            "Exception ignored in: 'pandas._libs.lib.is_bool_array'\n",
            "ValueError: Buffer dtype mismatch, expected 'Python object' but got 'long'\n"
          ],
          "name": "stderr"
        },
        {
          "output_type": "error",
          "ename": "ValueError",
          "evalue": "ignored",
          "traceback": [
            "\u001b[0;31m---------------------------------------------------------------------------\u001b[0m",
            "\u001b[0;31mValueError\u001b[0m                                Traceback (most recent call last)",
            "\u001b[0;31mValueError\u001b[0m: Buffer dtype mismatch, expected 'Python object' but got 'long'"
          ]
        },
        {
          "output_type": "stream",
          "text": [
            "Exception ignored in: 'pandas._libs.lib.is_bool_array'\n",
            "ValueError: Buffer dtype mismatch, expected 'Python object' but got 'long'\n"
          ],
          "name": "stderr"
        }
      ]
    },
    {
      "metadata": {
        "id": "w_pTqk_t8u2p",
        "colab_type": "code",
        "colab": {
          "base_uri": "https://localhost:8080/",
          "height": 245
        },
        "outputId": "da433014-bb3c-4733-b47e-b81e7d51ae15"
      },
      "cell_type": "code",
      "source": [
        "train.head()"
      ],
      "execution_count": 99,
      "outputs": [
        {
          "output_type": "execute_result",
          "data": {
            "text/html": [
              "<div>\n",
              "<style scoped>\n",
              "    .dataframe tbody tr th:only-of-type {\n",
              "        vertical-align: middle;\n",
              "    }\n",
              "\n",
              "    .dataframe tbody tr th {\n",
              "        vertical-align: top;\n",
              "    }\n",
              "\n",
              "    .dataframe thead th {\n",
              "        text-align: right;\n",
              "    }\n",
              "</style>\n",
              "<table border=\"1\" class=\"dataframe\">\n",
              "  <thead>\n",
              "    <tr style=\"text-align: right;\">\n",
              "      <th></th>\n",
              "      <th>first_active_month</th>\n",
              "      <th>card_id</th>\n",
              "      <th>feature_1</th>\n",
              "      <th>feature_2</th>\n",
              "      <th>feature_3</th>\n",
              "      <th>target</th>\n",
              "      <th>first_active_month_year</th>\n",
              "      <th>first_active_month_month</th>\n",
              "      <th>first_active_month_weekday</th>\n",
              "      <th>elasped_time</th>\n",
              "      <th>...</th>\n",
              "      <th>installments_sum_mean</th>\n",
              "      <th>installments_sum_std</th>\n",
              "      <th>installments_mean_mean</th>\n",
              "      <th>installments_mean_std</th>\n",
              "      <th>installments_min_mean</th>\n",
              "      <th>installments_min_std</th>\n",
              "      <th>installments_max_mean</th>\n",
              "      <th>installments_max_std</th>\n",
              "      <th>installments_std_mean</th>\n",
              "      <th>installments_std_std</th>\n",
              "    </tr>\n",
              "  </thead>\n",
              "  <tbody>\n",
              "    <tr>\n",
              "      <th>0</th>\n",
              "      <td>2017-06-01</td>\n",
              "      <td>C_ID_92a2005557</td>\n",
              "      <td>5</td>\n",
              "      <td>2</td>\n",
              "      <td>1</td>\n",
              "      <td>-0.820283</td>\n",
              "      <td>2017</td>\n",
              "      <td>6</td>\n",
              "      <td>3</td>\n",
              "      <td>245</td>\n",
              "      <td>...</td>\n",
              "      <td>0.444444</td>\n",
              "      <td>0.726483</td>\n",
              "      <td>0.018182</td>\n",
              "      <td>0.032221</td>\n",
              "      <td>0.000000</td>\n",
              "      <td>0.000000</td>\n",
              "      <td>0.333333</td>\n",
              "      <td>0.500000</td>\n",
              "      <td>0.074290</td>\n",
              "      <td>0.117067</td>\n",
              "    </tr>\n",
              "    <tr>\n",
              "      <th>1</th>\n",
              "      <td>2017-01-01</td>\n",
              "      <td>C_ID_3d0044924f</td>\n",
              "      <td>4</td>\n",
              "      <td>1</td>\n",
              "      <td>0</td>\n",
              "      <td>0.392913</td>\n",
              "      <td>2017</td>\n",
              "      <td>1</td>\n",
              "      <td>6</td>\n",
              "      <td>396</td>\n",
              "      <td>...</td>\n",
              "      <td>41.769231</td>\n",
              "      <td>14.341977</td>\n",
              "      <td>1.713279</td>\n",
              "      <td>0.546685</td>\n",
              "      <td>0.692308</td>\n",
              "      <td>0.751068</td>\n",
              "      <td>6.307692</td>\n",
              "      <td>2.780426</td>\n",
              "      <td>1.478938</td>\n",
              "      <td>0.895708</td>\n",
              "    </tr>\n",
              "    <tr>\n",
              "      <th>2</th>\n",
              "      <td>2016-08-01</td>\n",
              "      <td>C_ID_d639edf6cd</td>\n",
              "      <td>2</td>\n",
              "      <td>2</td>\n",
              "      <td>0</td>\n",
              "      <td>0.688056</td>\n",
              "      <td>2016</td>\n",
              "      <td>8</td>\n",
              "      <td>0</td>\n",
              "      <td>549</td>\n",
              "      <td>...</td>\n",
              "      <td>0.000000</td>\n",
              "      <td>0.000000</td>\n",
              "      <td>0.000000</td>\n",
              "      <td>0.000000</td>\n",
              "      <td>0.000000</td>\n",
              "      <td>0.000000</td>\n",
              "      <td>0.000000</td>\n",
              "      <td>0.000000</td>\n",
              "      <td>0.000000</td>\n",
              "      <td>0.000000</td>\n",
              "    </tr>\n",
              "    <tr>\n",
              "      <th>3</th>\n",
              "      <td>2017-09-01</td>\n",
              "      <td>C_ID_186d6a6901</td>\n",
              "      <td>4</td>\n",
              "      <td>3</td>\n",
              "      <td>0</td>\n",
              "      <td>0.142495</td>\n",
              "      <td>2017</td>\n",
              "      <td>9</td>\n",
              "      <td>4</td>\n",
              "      <td>153</td>\n",
              "      <td>...</td>\n",
              "      <td>14.000000</td>\n",
              "      <td>11.523888</td>\n",
              "      <td>1.044819</td>\n",
              "      <td>0.215637</td>\n",
              "      <td>0.333333</td>\n",
              "      <td>1.032796</td>\n",
              "      <td>2.000000</td>\n",
              "      <td>1.095445</td>\n",
              "      <td>0.518905</td>\n",
              "      <td>0.483284</td>\n",
              "    </tr>\n",
              "    <tr>\n",
              "      <th>4</th>\n",
              "      <td>2017-11-01</td>\n",
              "      <td>C_ID_cdbd2c0db2</td>\n",
              "      <td>1</td>\n",
              "      <td>3</td>\n",
              "      <td>0</td>\n",
              "      <td>-0.159749</td>\n",
              "      <td>2017</td>\n",
              "      <td>11</td>\n",
              "      <td>2</td>\n",
              "      <td>92</td>\n",
              "      <td>...</td>\n",
              "      <td>45.500000</td>\n",
              "      <td>23.979158</td>\n",
              "      <td>1.369969</td>\n",
              "      <td>0.597277</td>\n",
              "      <td>1.000000</td>\n",
              "      <td>0.000000</td>\n",
              "      <td>4.500000</td>\n",
              "      <td>5.066228</td>\n",
              "      <td>1.083005</td>\n",
              "      <td>1.664428</td>\n",
              "    </tr>\n",
              "  </tbody>\n",
              "</table>\n",
              "<p>5 rows × 106 columns</p>\n",
              "</div>"
            ],
            "text/plain": [
              "  first_active_month          card_id feature_1 feature_2 feature_3    target  \\\n",
              "0         2017-06-01  C_ID_92a2005557         5         2         1 -0.820283   \n",
              "1         2017-01-01  C_ID_3d0044924f         4         1         0  0.392913   \n",
              "2         2016-08-01  C_ID_d639edf6cd         2         2         0  0.688056   \n",
              "3         2017-09-01  C_ID_186d6a6901         4         3         0  0.142495   \n",
              "4         2017-11-01  C_ID_cdbd2c0db2         1         3         0 -0.159749   \n",
              "\n",
              "   first_active_month_year  first_active_month_month  \\\n",
              "0                     2017                         6   \n",
              "1                     2017                         1   \n",
              "2                     2016                         8   \n",
              "3                     2017                         9   \n",
              "4                     2017                        11   \n",
              "\n",
              "   first_active_month_weekday  elasped_time          ...           \\\n",
              "0                           3           245          ...            \n",
              "1                           6           396          ...            \n",
              "2                           0           549          ...            \n",
              "3                           4           153          ...            \n",
              "4                           2            92          ...            \n",
              "\n",
              "   installments_sum_mean  installments_sum_std  installments_mean_mean  \\\n",
              "0               0.444444              0.726483                0.018182   \n",
              "1              41.769231             14.341977                1.713279   \n",
              "2               0.000000              0.000000                0.000000   \n",
              "3              14.000000             11.523888                1.044819   \n",
              "4              45.500000             23.979158                1.369969   \n",
              "\n",
              "   installments_mean_std  installments_min_mean  installments_min_std  \\\n",
              "0               0.032221               0.000000              0.000000   \n",
              "1               0.546685               0.692308              0.751068   \n",
              "2               0.000000               0.000000              0.000000   \n",
              "3               0.215637               0.333333              1.032796   \n",
              "4               0.597277               1.000000              0.000000   \n",
              "\n",
              "   installments_max_mean  installments_max_std  installments_std_mean  \\\n",
              "0               0.333333              0.500000               0.074290   \n",
              "1               6.307692              2.780426               1.478938   \n",
              "2               0.000000              0.000000               0.000000   \n",
              "3               2.000000              1.095445               0.518905   \n",
              "4               4.500000              5.066228               1.083005   \n",
              "\n",
              "   installments_std_std  \n",
              "0              0.117067  \n",
              "1              0.895708  \n",
              "2              0.000000  \n",
              "3              0.483284  \n",
              "4              1.664428  \n",
              "\n",
              "[5 rows x 106 columns]"
            ]
          },
          "metadata": {
            "tags": []
          },
          "execution_count": 99
        }
      ]
    },
    {
      "metadata": {
        "id": "bvnn9JDQWtFG",
        "colab_type": "text"
      },
      "cell_type": "markdown",
      "source": [
        "# Preparing the Data for the model"
      ]
    },
    {
      "metadata": {
        "id": "zcnDMskDBrVz",
        "colab_type": "code",
        "colab": {}
      },
      "cell_type": "code",
      "source": [
        "for col in train.columns:\n",
        "    if train[col].isna().any():\n",
        "        train[col] = train[col].fillna(0)"
      ],
      "execution_count": 0,
      "outputs": []
    },
    {
      "metadata": {
        "id": "2nr6f0j3KPjK",
        "colab_type": "code",
        "colab": {}
      },
      "cell_type": "code",
      "source": [
        "for col in test.columns:\n",
        "    if test[col].isna().any():\n",
        "        test[col] = test[col].fillna(0)"
      ],
      "execution_count": 0,
      "outputs": []
    },
    {
      "metadata": {
        "id": "tQMH3mzhzSR8",
        "colab_type": "code",
        "colab": {}
      },
      "cell_type": "code",
      "source": [
        "y = train['target']"
      ],
      "execution_count": 0,
      "outputs": []
    },
    {
      "metadata": {
        "id": "zzfZg2L4zS-y",
        "colab_type": "code",
        "colab": {}
      },
      "cell_type": "code",
      "source": [
        "col_to_drop = ['first_active_month', 'card_id', 'target','hist_purchase_date_max', 'hist_purchase_date_min', 'newpurchase_date_max', 'newpurchase_date_min']\n",
        "for col in col_to_drop:\n",
        "    if col in train.columns:\n",
        "        train.drop([col], axis=1, inplace=True)\n",
        "    if col in test.columns:\n",
        "        test.drop([col], axis=1, inplace=True)"
      ],
      "execution_count": 0,
      "outputs": []
    },
    {
      "metadata": {
        "id": "N5pbYdFLzTds",
        "colab_type": "code",
        "colab": {}
      },
      "cell_type": "code",
      "source": [
        "train['feature_3'] = train['feature_3'].astype(int)\n",
        "test['feature_3'] = test['feature_3'].astype(int)"
      ],
      "execution_count": 0,
      "outputs": []
    },
    {
      "metadata": {
        "id": "QNH_93g9zT4E",
        "colab_type": "code",
        "colab": {}
      },
      "cell_type": "code",
      "source": [
        "from sklearn.preprocessing import LabelEncoder\n",
        "categorical_feats = ['feature_1', 'feature_2']\n",
        "for col in categorical_feats:\n",
        "    lbl = LabelEncoder()\n",
        "    lbl.fit(list(train[col].values.astype('str')) + list(test[col].values.astype('str')))\n",
        "    train[col] = lbl.transform(list(train[col].values.astype('str')))\n",
        "    test[col] = lbl.transform(list(test[col].values.astype('str')))"
      ],
      "execution_count": 0,
      "outputs": []
    },
    {
      "metadata": {
        "id": "PyxnPtMCzUQT",
        "colab_type": "code",
        "colab": {}
      },
      "cell_type": "code",
      "source": [
        "X = train\n",
        "X_test = test"
      ],
      "execution_count": 0,
      "outputs": []
    },
    {
      "metadata": {
        "id": "F0nm2lQTbpXt",
        "colab_type": "text"
      },
      "cell_type": "markdown",
      "source": [
        "# Predictaion and models"
      ]
    },
    {
      "metadata": {
        "id": "b_DOAcVdW92l",
        "colab_type": "text"
      },
      "cell_type": "markdown",
      "source": [
        "Using kfold validation"
      ]
    },
    {
      "metadata": {
        "id": "K4DJRcWR0Cce",
        "colab_type": "code",
        "colab": {}
      },
      "cell_type": "code",
      "source": [
        "from sklearn.model_selection import KFold\n",
        "n_fold = 2\n",
        "folds = KFold(n_splits=n_fold, shuffle=True, random_state=11)"
      ],
      "execution_count": 0,
      "outputs": []
    },
    {
      "metadata": {
        "id": "nY2P7IqoXA2X",
        "colab_type": "text"
      },
      "cell_type": "markdown",
      "source": [
        "using lgb model kfold validation for predication"
      ]
    },
    {
      "metadata": {
        "id": "BXXHdv7q0DB_",
        "colab_type": "code",
        "colab": {}
      },
      "cell_type": "code",
      "source": [
        "import lightgbm as lgb\n",
        "import time\n",
        "import matplotlib.pyplot as plt\n",
        "import seaborn as sns \n",
        "from sklearn.metrics import mean_squared_error\n",
        "def train_model(X=X, X_test=X_test, y=y, params=None, folds=folds, model_type='lgb'):\n",
        "    oof = np.zeros(len(X))\n",
        "    prediction = np.zeros(len(X_test))\n",
        "    scores = []\n",
        "    feature_importance = pd.DataFrame()\n",
        "    for fold_n, (train_index, valid_index) in enumerate(folds.split(X)):\n",
        "        print('Fold', fold_n, 'started at', time.ctime())\n",
        "        X_train, X_valid = X.iloc[train_index], X.iloc[valid_index]\n",
        "        y_train, y_valid = y.iloc[train_index], y.iloc[valid_index]\n",
        "        \n",
        "        if model_type == 'lgb':\n",
        "            model = lgb.LGBMRegressor(**params, n_estimators = 20000, nthread = 4, n_jobs = -1)\n",
        "            model.fit(X_train, y_train, \n",
        "                    eval_set=[(X_train, y_train), (X_valid, y_valid)], eval_metric='rmse',\n",
        "                    verbose=1000, early_stopping_rounds=200)\n",
        "            \n",
        "            y_pred_valid = model.predict(X_valid)\n",
        "            y_pred = model.predict(X_test, num_iteration=model.best_iteration_)\n",
        "            \n",
        "        oof[valid_index] = y_pred_valid.reshape(-1,)\n",
        "        scores.append(mean_squared_error(y_valid, y_pred_valid) ** 0.5)\n",
        "        \n",
        "        prediction += y_pred \n",
        "            \n",
        "    prediction /= n_fold\n",
        "    print('CV mean score: {0:.4f}, std: {1:.4f}.'.format(np.mean(scores), np.std(scores)))\n",
        "    return oof, prediction\n"
      ],
      "execution_count": 0,
      "outputs": []
    },
    {
      "metadata": {
        "id": "qObOONcEazuK",
        "colab_type": "text"
      },
      "cell_type": "markdown",
      "source": [
        "params for lgb - using try and error gridsearch we ran out of kernel and other public kernels."
      ]
    },
    {
      "metadata": {
        "id": "9WjDFYFB0DUT",
        "colab_type": "code",
        "colab": {}
      },
      "cell_type": "code",
      "source": [
        "params = {'num_leaves': 54,\n",
        "         'min_data_in_leaf': 79,\n",
        "         'objective': 'regression',\n",
        "         'max_depth': 7,\n",
        "         'learning_rate': 0.018545526395058548,\n",
        "         \"boosting\": \"gbdt\",\n",
        "         \"feature_fraction\": 0.8354507676881442,\n",
        "         \"bagging_freq\": 3,\n",
        "         \"bagging_fraction\": 0.8126672064208567,\n",
        "         \"bagging_seed\": 11,\n",
        "         \"metric\": 'rmse',\n",
        "         \"lambda_l1\": 0.1,\n",
        "         \"verbosity\": -1,\n",
        "         'min_child_weight': 5.343384366323818,\n",
        "         'reg_alpha': 1.1302650970728192,\n",
        "         'reg_lambda': 0.3603427518866501,\n",
        "         'subsample': 0.8767547959893627,}"
      ],
      "execution_count": 0,
      "outputs": []
    },
    {
      "metadata": {
        "id": "en8LwXEu0Cx2",
        "colab_type": "code",
        "colab": {
          "base_uri": "https://localhost:8080/",
          "height": 368
        },
        "outputId": "78ed645b-1287-4149-9445-1bfea6f240f5"
      },
      "cell_type": "code",
      "source": [
        "oof_lgb, prediction_lgb = train_model(params=params, model_type='lgb')"
      ],
      "execution_count": 143,
      "outputs": [
        {
          "output_type": "stream",
          "text": [
            "Fold 0 started at Sat Dec 22 19:29:24 2018\n",
            "Training until validation scores don't improve for 200 rounds.\n",
            "Early stopping, best iteration is:\n",
            "[740]\ttraining's rmse: 3.447\tvalid_1's rmse: 3.73263\n",
            "Fold 1 started at Sat Dec 22 19:30:46 2018\n",
            "Training until validation scores don't improve for 200 rounds.\n",
            "Early stopping, best iteration is:\n",
            "[662]\ttraining's rmse: 3.47633\tvalid_1's rmse: 3.65562\n",
            "Fold 2 started at Sat Dec 22 19:32:03 2018\n",
            "Training until validation scores don't improve for 200 rounds.\n",
            "Early stopping, best iteration is:\n",
            "[732]\ttraining's rmse: 3.45278\tvalid_1's rmse: 3.70344\n",
            "Fold 3 started at Sat Dec 22 19:33:26 2018\n",
            "Training until validation scores don't improve for 200 rounds.\n",
            "Early stopping, best iteration is:\n",
            "[444]\ttraining's rmse: 3.52365\tvalid_1's rmse: 3.67968\n",
            "Fold 4 started at Sat Dec 22 19:34:25 2018\n",
            "Training until validation scores don't improve for 200 rounds.\n",
            "Early stopping, best iteration is:\n",
            "[497]\ttraining's rmse: 3.52065\tvalid_1's rmse: 3.64126\n",
            "CV mean score: 3.6825, std: 0.0328.\n"
          ],
          "name": "stdout"
        }
      ]
    },
    {
      "metadata": {
        "id": "AjbNssH0bFbS",
        "colab_type": "text"
      },
      "cell_type": "markdown",
      "source": [
        "Creating submission file from the model predictions"
      ]
    },
    {
      "metadata": {
        "id": "RrYhet2I0-Ra",
        "colab_type": "code",
        "colab": {
          "base_uri": "https://localhost:8080/",
          "height": 196
        },
        "outputId": "85ad95f5-be48-4b0b-e8a7-ec4ce403662d"
      },
      "cell_type": "code",
      "source": [
        "submission = pd.read_csv(path + 'sample_submission.csv')\n",
        "submission['target'] = prediction_lgb\n",
        "submission.to_csv(path + 'lgb_d.csv', index=False)\n",
        "submission.head()"
      ],
      "execution_count": 124,
      "outputs": [
        {
          "output_type": "execute_result",
          "data": {
            "text/html": [
              "<div>\n",
              "<style scoped>\n",
              "    .dataframe tbody tr th:only-of-type {\n",
              "        vertical-align: middle;\n",
              "    }\n",
              "\n",
              "    .dataframe tbody tr th {\n",
              "        vertical-align: top;\n",
              "    }\n",
              "\n",
              "    .dataframe thead th {\n",
              "        text-align: right;\n",
              "    }\n",
              "</style>\n",
              "<table border=\"1\" class=\"dataframe\">\n",
              "  <thead>\n",
              "    <tr style=\"text-align: right;\">\n",
              "      <th></th>\n",
              "      <th>card_id</th>\n",
              "      <th>target</th>\n",
              "    </tr>\n",
              "  </thead>\n",
              "  <tbody>\n",
              "    <tr>\n",
              "      <th>0</th>\n",
              "      <td>C_ID_0ab67a22ab</td>\n",
              "      <td>-3.063205</td>\n",
              "    </tr>\n",
              "    <tr>\n",
              "      <th>1</th>\n",
              "      <td>C_ID_130fd0cbdd</td>\n",
              "      <td>-0.596065</td>\n",
              "    </tr>\n",
              "    <tr>\n",
              "      <th>2</th>\n",
              "      <td>C_ID_b709037bc5</td>\n",
              "      <td>-0.488714</td>\n",
              "    </tr>\n",
              "    <tr>\n",
              "      <th>3</th>\n",
              "      <td>C_ID_d27d835a9f</td>\n",
              "      <td>-0.284089</td>\n",
              "    </tr>\n",
              "    <tr>\n",
              "      <th>4</th>\n",
              "      <td>C_ID_2b5e3df5c2</td>\n",
              "      <td>-0.671911</td>\n",
              "    </tr>\n",
              "  </tbody>\n",
              "</table>\n",
              "</div>"
            ],
            "text/plain": [
              "           card_id    target\n",
              "0  C_ID_0ab67a22ab -3.063205\n",
              "1  C_ID_130fd0cbdd -0.596065\n",
              "2  C_ID_b709037bc5 -0.488714\n",
              "3  C_ID_d27d835a9f -0.284089\n",
              "4  C_ID_2b5e3df5c2 -0.671911"
            ]
          },
          "metadata": {
            "tags": []
          },
          "execution_count": 124
        }
      ]
    },
    {
      "metadata": {
        "id": "zWAoIcnLbNxj",
        "colab_type": "text"
      },
      "cell_type": "markdown",
      "source": [
        "Trying to use ANN to imprive results - did not work well."
      ]
    },
    {
      "metadata": {
        "id": "abzkgj9izUjw",
        "colab_type": "code",
        "colab": {}
      },
      "cell_type": "code",
      "source": [
        "from keras  import *\n",
        "inp = Input(shape=(99,))\n",
        "z = Dense(2048, activation='relu')(inp)\n",
        "z = Dense(1024, activation='relu')(z)\n",
        "z = Dense(512, activation='sigmoid')(z)\n",
        "z = Dense(256, activation='relu')(z)\n",
        "z = Dense(1, activation='relu')(z)\n",
        "\n",
        "model = Model(inputs = inp, outputs= z )\n",
        "model.compile(loss = 'mse', optimizer = 'RMSProp')"
      ],
      "execution_count": 0,
      "outputs": []
    },
    {
      "metadata": {
        "id": "BT1I20SDYD4g",
        "colab_type": "code",
        "colab": {
          "base_uri": "https://localhost:8080/",
          "height": 901
        },
        "outputId": "0f2daefc-f6ca-4adb-a6a0-307a78388b51"
      },
      "cell_type": "code",
      "source": [
        "history = model.fit(x=X, y=y, batch_size=64, epochs=5)"
      ],
      "execution_count": 137,
      "outputs": [
        {
          "output_type": "stream",
          "text": [
            "Epoch 1/5\n",
            "201917/201917 [==============================] - 27s 132us/step - loss: 14.9812\n",
            "Epoch 2/5\n",
            "201917/201917 [==============================] - 26s 129us/step - loss: 14.9812\n",
            "Epoch 3/5\n",
            "201917/201917 [==============================] - 26s 130us/step - loss: 14.9812\n",
            "Epoch 4/5\n",
            " 80384/201917 [==========>...................] - ETA: 15s - loss: 15.2742"
          ],
          "name": "stdout"
        },
        {
          "output_type": "error",
          "ename": "KeyboardInterrupt",
          "evalue": "ignored",
          "traceback": [
            "\u001b[0;31m---------------------------------------------------------------------------\u001b[0m",
            "\u001b[0;31mKeyboardInterrupt\u001b[0m                         Traceback (most recent call last)",
            "\u001b[0;32m<ipython-input-137-ec612ea40083>\u001b[0m in \u001b[0;36m<module>\u001b[0;34m()\u001b[0m\n\u001b[0;32m----> 1\u001b[0;31m \u001b[0mhistory\u001b[0m \u001b[0;34m=\u001b[0m \u001b[0mmodel\u001b[0m\u001b[0;34m.\u001b[0m\u001b[0mfit\u001b[0m\u001b[0;34m(\u001b[0m\u001b[0mx\u001b[0m\u001b[0;34m=\u001b[0m\u001b[0mX\u001b[0m\u001b[0;34m,\u001b[0m \u001b[0my\u001b[0m\u001b[0;34m=\u001b[0m\u001b[0my\u001b[0m\u001b[0;34m,\u001b[0m \u001b[0mbatch_size\u001b[0m\u001b[0;34m=\u001b[0m\u001b[0;36m64\u001b[0m\u001b[0;34m,\u001b[0m \u001b[0mepochs\u001b[0m\u001b[0;34m=\u001b[0m\u001b[0;36m5\u001b[0m\u001b[0;34m)\u001b[0m\u001b[0;34m\u001b[0m\u001b[0;34m\u001b[0m\u001b[0m\n\u001b[0m",
            "\u001b[0;32m/usr/local/lib/python3.6/dist-packages/keras/engine/training.py\u001b[0m in \u001b[0;36mfit\u001b[0;34m(self, x, y, batch_size, epochs, verbose, callbacks, validation_split, validation_data, shuffle, class_weight, sample_weight, initial_epoch, steps_per_epoch, validation_steps, **kwargs)\u001b[0m\n\u001b[1;32m   1037\u001b[0m                                         \u001b[0minitial_epoch\u001b[0m\u001b[0;34m=\u001b[0m\u001b[0minitial_epoch\u001b[0m\u001b[0;34m,\u001b[0m\u001b[0;34m\u001b[0m\u001b[0;34m\u001b[0m\u001b[0m\n\u001b[1;32m   1038\u001b[0m                                         \u001b[0msteps_per_epoch\u001b[0m\u001b[0;34m=\u001b[0m\u001b[0msteps_per_epoch\u001b[0m\u001b[0;34m,\u001b[0m\u001b[0;34m\u001b[0m\u001b[0;34m\u001b[0m\u001b[0m\n\u001b[0;32m-> 1039\u001b[0;31m                                         validation_steps=validation_steps)\n\u001b[0m\u001b[1;32m   1040\u001b[0m \u001b[0;34m\u001b[0m\u001b[0m\n\u001b[1;32m   1041\u001b[0m     def evaluate(self, x=None, y=None,\n",
            "\u001b[0;32m/usr/local/lib/python3.6/dist-packages/keras/engine/training_arrays.py\u001b[0m in \u001b[0;36mfit_loop\u001b[0;34m(model, f, ins, out_labels, batch_size, epochs, verbose, callbacks, val_f, val_ins, shuffle, callback_metrics, initial_epoch, steps_per_epoch, validation_steps)\u001b[0m\n\u001b[1;32m    197\u001b[0m                     \u001b[0mins_batch\u001b[0m\u001b[0;34m[\u001b[0m\u001b[0mi\u001b[0m\u001b[0;34m]\u001b[0m \u001b[0;34m=\u001b[0m \u001b[0mins_batch\u001b[0m\u001b[0;34m[\u001b[0m\u001b[0mi\u001b[0m\u001b[0;34m]\u001b[0m\u001b[0;34m.\u001b[0m\u001b[0mtoarray\u001b[0m\u001b[0;34m(\u001b[0m\u001b[0;34m)\u001b[0m\u001b[0;34m\u001b[0m\u001b[0;34m\u001b[0m\u001b[0m\n\u001b[1;32m    198\u001b[0m \u001b[0;34m\u001b[0m\u001b[0m\n\u001b[0;32m--> 199\u001b[0;31m                 \u001b[0mouts\u001b[0m \u001b[0;34m=\u001b[0m \u001b[0mf\u001b[0m\u001b[0;34m(\u001b[0m\u001b[0mins_batch\u001b[0m\u001b[0;34m)\u001b[0m\u001b[0;34m\u001b[0m\u001b[0;34m\u001b[0m\u001b[0m\n\u001b[0m\u001b[1;32m    200\u001b[0m                 \u001b[0mouts\u001b[0m \u001b[0;34m=\u001b[0m \u001b[0mto_list\u001b[0m\u001b[0;34m(\u001b[0m\u001b[0mouts\u001b[0m\u001b[0;34m)\u001b[0m\u001b[0;34m\u001b[0m\u001b[0;34m\u001b[0m\u001b[0m\n\u001b[1;32m    201\u001b[0m                 \u001b[0;32mfor\u001b[0m \u001b[0ml\u001b[0m\u001b[0;34m,\u001b[0m \u001b[0mo\u001b[0m \u001b[0;32min\u001b[0m \u001b[0mzip\u001b[0m\u001b[0;34m(\u001b[0m\u001b[0mout_labels\u001b[0m\u001b[0;34m,\u001b[0m \u001b[0mouts\u001b[0m\u001b[0;34m)\u001b[0m\u001b[0;34m:\u001b[0m\u001b[0;34m\u001b[0m\u001b[0;34m\u001b[0m\u001b[0m\n",
            "\u001b[0;32m/usr/local/lib/python3.6/dist-packages/keras/backend/tensorflow_backend.py\u001b[0m in \u001b[0;36m__call__\u001b[0;34m(self, inputs)\u001b[0m\n\u001b[1;32m   2713\u001b[0m                 \u001b[0;32mreturn\u001b[0m \u001b[0mself\u001b[0m\u001b[0;34m.\u001b[0m\u001b[0m_legacy_call\u001b[0m\u001b[0;34m(\u001b[0m\u001b[0minputs\u001b[0m\u001b[0;34m)\u001b[0m\u001b[0;34m\u001b[0m\u001b[0;34m\u001b[0m\u001b[0m\n\u001b[1;32m   2714\u001b[0m \u001b[0;34m\u001b[0m\u001b[0m\n\u001b[0;32m-> 2715\u001b[0;31m             \u001b[0;32mreturn\u001b[0m \u001b[0mself\u001b[0m\u001b[0;34m.\u001b[0m\u001b[0m_call\u001b[0m\u001b[0;34m(\u001b[0m\u001b[0minputs\u001b[0m\u001b[0;34m)\u001b[0m\u001b[0;34m\u001b[0m\u001b[0;34m\u001b[0m\u001b[0m\n\u001b[0m\u001b[1;32m   2716\u001b[0m         \u001b[0;32melse\u001b[0m\u001b[0;34m:\u001b[0m\u001b[0;34m\u001b[0m\u001b[0;34m\u001b[0m\u001b[0m\n\u001b[1;32m   2717\u001b[0m             \u001b[0;32mif\u001b[0m \u001b[0mpy_any\u001b[0m\u001b[0;34m(\u001b[0m\u001b[0mis_tensor\u001b[0m\u001b[0;34m(\u001b[0m\u001b[0mx\u001b[0m\u001b[0;34m)\u001b[0m \u001b[0;32mfor\u001b[0m \u001b[0mx\u001b[0m \u001b[0;32min\u001b[0m \u001b[0minputs\u001b[0m\u001b[0;34m)\u001b[0m\u001b[0;34m:\u001b[0m\u001b[0;34m\u001b[0m\u001b[0;34m\u001b[0m\u001b[0m\n",
            "\u001b[0;32m/usr/local/lib/python3.6/dist-packages/keras/backend/tensorflow_backend.py\u001b[0m in \u001b[0;36m_call\u001b[0;34m(self, inputs)\u001b[0m\n\u001b[1;32m   2673\u001b[0m             \u001b[0mfetched\u001b[0m \u001b[0;34m=\u001b[0m \u001b[0mself\u001b[0m\u001b[0;34m.\u001b[0m\u001b[0m_callable_fn\u001b[0m\u001b[0;34m(\u001b[0m\u001b[0;34m*\u001b[0m\u001b[0marray_vals\u001b[0m\u001b[0;34m,\u001b[0m \u001b[0mrun_metadata\u001b[0m\u001b[0;34m=\u001b[0m\u001b[0mself\u001b[0m\u001b[0;34m.\u001b[0m\u001b[0mrun_metadata\u001b[0m\u001b[0;34m)\u001b[0m\u001b[0;34m\u001b[0m\u001b[0;34m\u001b[0m\u001b[0m\n\u001b[1;32m   2674\u001b[0m         \u001b[0;32melse\u001b[0m\u001b[0;34m:\u001b[0m\u001b[0;34m\u001b[0m\u001b[0;34m\u001b[0m\u001b[0m\n\u001b[0;32m-> 2675\u001b[0;31m             \u001b[0mfetched\u001b[0m \u001b[0;34m=\u001b[0m \u001b[0mself\u001b[0m\u001b[0;34m.\u001b[0m\u001b[0m_callable_fn\u001b[0m\u001b[0;34m(\u001b[0m\u001b[0;34m*\u001b[0m\u001b[0marray_vals\u001b[0m\u001b[0;34m)\u001b[0m\u001b[0;34m\u001b[0m\u001b[0;34m\u001b[0m\u001b[0m\n\u001b[0m\u001b[1;32m   2676\u001b[0m         \u001b[0;32mreturn\u001b[0m \u001b[0mfetched\u001b[0m\u001b[0;34m[\u001b[0m\u001b[0;34m:\u001b[0m\u001b[0mlen\u001b[0m\u001b[0;34m(\u001b[0m\u001b[0mself\u001b[0m\u001b[0;34m.\u001b[0m\u001b[0moutputs\u001b[0m\u001b[0;34m)\u001b[0m\u001b[0;34m]\u001b[0m\u001b[0;34m\u001b[0m\u001b[0;34m\u001b[0m\u001b[0m\n\u001b[1;32m   2677\u001b[0m \u001b[0;34m\u001b[0m\u001b[0m\n",
            "\u001b[0;32m/usr/local/lib/python3.6/dist-packages/tensorflow/python/client/session.py\u001b[0m in \u001b[0;36m__call__\u001b[0;34m(self, *args, **kwargs)\u001b[0m\n\u001b[1;32m   1437\u001b[0m           ret = tf_session.TF_SessionRunCallable(\n\u001b[1;32m   1438\u001b[0m               \u001b[0mself\u001b[0m\u001b[0;34m.\u001b[0m\u001b[0m_session\u001b[0m\u001b[0;34m.\u001b[0m\u001b[0m_session\u001b[0m\u001b[0;34m,\u001b[0m \u001b[0mself\u001b[0m\u001b[0;34m.\u001b[0m\u001b[0m_handle\u001b[0m\u001b[0;34m,\u001b[0m \u001b[0margs\u001b[0m\u001b[0;34m,\u001b[0m \u001b[0mstatus\u001b[0m\u001b[0;34m,\u001b[0m\u001b[0;34m\u001b[0m\u001b[0;34m\u001b[0m\u001b[0m\n\u001b[0;32m-> 1439\u001b[0;31m               run_metadata_ptr)\n\u001b[0m\u001b[1;32m   1440\u001b[0m         \u001b[0;32mif\u001b[0m \u001b[0mrun_metadata\u001b[0m\u001b[0;34m:\u001b[0m\u001b[0;34m\u001b[0m\u001b[0;34m\u001b[0m\u001b[0m\n\u001b[1;32m   1441\u001b[0m           \u001b[0mproto_data\u001b[0m \u001b[0;34m=\u001b[0m \u001b[0mtf_session\u001b[0m\u001b[0;34m.\u001b[0m\u001b[0mTF_GetBuffer\u001b[0m\u001b[0;34m(\u001b[0m\u001b[0mrun_metadata_ptr\u001b[0m\u001b[0;34m)\u001b[0m\u001b[0;34m\u001b[0m\u001b[0;34m\u001b[0m\u001b[0m\n",
            "\u001b[0;31mKeyboardInterrupt\u001b[0m: "
          ]
        }
      ]
    }
  ]
}